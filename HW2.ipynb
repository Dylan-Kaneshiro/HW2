{
 "cells": [
  {
   "cell_type": "code",
   "execution_count": 18,
   "metadata": {},
   "outputs": [],
   "source": [
    "using CSV, JuMP, Gurobi, DataFrames"
   ]
  },
  {
   "cell_type": "code",
   "execution_count": 19,
   "metadata": {},
   "outputs": [
    {
     "data": {
      "text/plain": [
       "20×1 Matrix{Float64}:\n",
       "  23.0\n",
       "  24.0\n",
       "  30.0\n",
       "   4.0\n",
       "  70.0\n",
       "  87.0\n",
       "  75.0\n",
       " 107.0\n",
       "  43.0\n",
       "  52.0\n",
       "   4.0\n",
       "  20.0\n",
       "  49.0\n",
       "  69.0\n",
       " 141.0\n",
       "  32.0\n",
       "  35.0\n",
       "   4.0\n",
       "  23.0\n",
       " 108.0"
      ]
     },
     "execution_count": 19,
     "metadata": {},
     "output_type": "execute_result"
    }
   ],
   "source": [
    "energy_matrix = CSV.read(\"HW2_data/energy.csv\", DataFrame) |> df -> select(df, Not(1)) |> Matrix\n",
    "capacity_vector = CSV.read(\"HW2_data/capacity.csv\", DataFrame) |> df -> select(df, Not(1)) |> Matrix"
   ]
  },
  {
   "cell_type": "code",
   "execution_count": 20,
   "metadata": {},
   "outputs": [
    {
     "data": {
      "text/plain": [
       "1000×20 Matrix{Float64}:\n",
       " 58.4516  56.4218  53.3182  61.1425  …  58.5737  47.434   60.5322  53.7255\n",
       " 47.1307  49.9741  49.4615  53.4576     45.5567  44.2967  43.7656  51.6316\n",
       " 72.7165  64.8131  62.9752  76.3534     59.1579  56.775   61.0008  60.1781\n",
       " 44.5003  51.6669  45.6587  44.7678     55.7139  41.9219  39.5938  45.9446\n",
       " 48.9771  41.3224  54.4063  53.2036     57.0393  53.6506  41.1886  56.2313\n",
       " 14.4386  19.9577  18.9604  21.8064  …  18.9657  18.891   20.1127  18.9616\n",
       " 72.9008  66.1734  71.4013  64.5653     67.8859  62.7328  65.5753  59.0646\n",
       " 31.1955  29.6268  25.2512  26.9403     32.0769  27.4883  28.1615  26.8298\n",
       " 73.8362  79.5029  72.8443  83.7081     78.4482  65.0861  78.7875  77.2289\n",
       " 74.7685  82.2525  71.9211  75.4779     70.681   75.8865  76.0492  71.2974\n",
       " 48.544   34.5686  42.3093  39.9429  …  38.6825  40.2174  42.9395  45.8979\n",
       " 32.0782  31.5283  33.1421  33.7846     34.6609  38.5242  37.7509  43.3149\n",
       " 16.0317  15.4004  18.9355  17.5292     16.7998  17.6602  18.5714  16.671\n",
       "  ⋮                                  ⋱                             \n",
       " 68.2639  76.0387  71.481   67.7003     56.445   68.6001  72.4702  58.3274\n",
       " 77.3768  80.9818  84.5094  76.7653     66.0943  75.1142  79.172   89.5842\n",
       " 32.2609  26.7578  31.8018  34.1356  …  30.2441  33.7668  29.9759  30.7367\n",
       " 27.0395  20.4201  21.4507  20.7178     24.9886  20.9023  22.0435  24.2558\n",
       " 32.4131  23.5574  29.1081  27.2125     25.1626  28.5859  23.9509  24.7429\n",
       " 49.252   48.202   37.644   39.6525     38.5999  51.7436  35.4545  45.5827\n",
       " 40.1517  40.6313  45.1388  41.8671     33.4868  37.1271  34.7273  38.6355\n",
       " 60.7006  49.0726  59.1773  46.8141  …  46.9414  63.553   62.0514  59.2827\n",
       " 61.9197  58.9072  52.9093  52.1278     65.1597  59.7548  69.7299  57.9459\n",
       " 42.1334  48.6936  53.7934  63.9949     50.8765  50.4512  49.5936  42.7378\n",
       " 25.9072  33.3283  29.5825  27.0473     28.8434  31.4039  27.9038  28.4074\n",
       " 52.7389  47.9023  51.1686  47.5137     48.5408  61.7873  62.9148  49.6594"
      ]
     },
     "execution_count": 20,
     "metadata": {},
     "output_type": "execute_result"
    }
   ],
   "source": [
    "energy_matrix"
   ]
  },
  {
   "cell_type": "markdown",
   "metadata": {},
   "source": [
    "# Part b"
   ]
  },
  {
   "cell_type": "code",
   "execution_count": 21,
   "metadata": {},
   "outputs": [
    {
     "name": "stdout",
     "output_type": "stream",
     "text": [
      "Set parameter Username\n",
      "Academic license - for non-commercial use only - expires 2025-08-18\n",
      "Gurobi Optimizer version 11.0.2 build v11.0.2rc0 (mac64[arm] - Darwin 23.6.0 23G93)\n",
      "\n",
      "CPU model: Apple M1\n",
      "Thread count: 8 physical cores, 8 logical processors, using up to 8 threads\n",
      "\n",
      "Optimize a model with 1020 rows, 20000 columns and 40000 nonzeros\n",
      "Model fingerprint: 0x5ad88959\n",
      "Coefficient statistics:\n",
      "  Matrix range     [1e+00, 1e+00]\n",
      "  Objective range  [7e+00, 2e+02]\n",
      "  Bounds range     [1e+00, 1e+00]\n",
      "  RHS range        [1e+00, 1e+02]\n",
      "Presolve time: 0.01s\n",
      "Presolved: 1020 rows, 20000 columns, 40000 nonzeros\n",
      "\n",
      "Concurrent LP optimizer: primal simplex, dual simplex, and barrier\n",
      "Showing barrier log only...\n",
      "\n",
      "Ordering time: 0.00s\n",
      "\n",
      "Barrier statistics:\n",
      " AA' NZ     : 2.000e+04\n",
      " Factor NZ  : 2.168e+04 (roughly 9 MB of memory)\n",
      " Factor Ops : 4.729e+05 (less than 1 second per iteration)\n",
      " Threads    : 1\n",
      "\n",
      "                  Objective                Residual\n",
      "Iter       Primal          Dual         Primal    Dual     Compl     Time\n",
      "   0   4.27424517e+06  0.00000000e+00  4.26e+03 7.11e-15  1.40e+02     0s\n",
      "   1   9.60667043e+04 -1.30050930e+04  4.75e+01 4.26e-14  3.06e+00     0s\n",
      "\n",
      "Barrier performed 1 iterations in 0.02 seconds (0.02 work units)\n",
      "Barrier solve interrupted - model solved by another algorithm\n",
      "\n",
      "\n",
      "Solved with dual simplex\n",
      "Iteration    Objective       Primal Inf.    Dual Inf.      Time\n",
      "     457    4.1416507e+04   0.000000e+00   0.000000e+00      0s\n",
      "\n",
      "Solved in 457 iterations and 0.02 seconds (0.03 work units)\n",
      "Optimal objective  4.141650743e+04\n",
      "\n",
      "User-callback calls 62, time in user-callback 0.00 sec\n",
      "Optimal energy consumption: 41416.507432447295\n",
      "Energy consumption without machine capacity constraints: 40883.16110700149\n",
      "Number of jobs not assigned to the machine with the lowest energy consumption: 386\n"
     ]
    }
   ],
   "source": [
    "num_jobs, num_machines = size(energy_matrix)\n",
    "\n",
    "# Initialize the model\n",
    "model = Model(Gurobi.Optimizer)\n",
    "\n",
    "# Decision variables: x[i, j] is the fraction of job i assigned to machine j\n",
    "@variable(model, 0 <= x[1:num_jobs, 1:num_machines] <= 1)\n",
    "\n",
    "# Objective: Minimize total energy consumption\n",
    "@objective(model, Min, sum(energy_matrix[i, j] * x[i, j] for i in 1:num_jobs, j in 1:num_machines))\n",
    "\n",
    "# Constraints:\n",
    "# 1. Each job must be fully assigned (sum of fractions across machines must be 1)\n",
    "@constraint(model, [i=1:num_jobs], sum(x[i, j] for j in 1:num_machines) == 1)\n",
    "\n",
    "# 2. Machine capacity constraints\n",
    "@constraint(model, [j=1:num_machines], sum(x[i, j] for i in 1:num_jobs) <= capacity_vector[j])\n",
    "\n",
    "# Solve the problem\n",
    "optimize!(model)\n",
    "\n",
    "# (i) Optimal energy consumption\n",
    "optimal_energy_consumption = objective_value(model)\n",
    "println(\"Optimal energy consumption: \", optimal_energy_consumption)\n",
    "\n",
    "# (ii) Energy consumption if each job is assigned to the machine with the lowest energy consumption\n",
    "min_energy_consumption_per_job = sum(minimum(energy_matrix[i, :]) for i in 1:num_jobs)\n",
    "println(\"Energy consumption without machine capacity constraints: \", min_energy_consumption_per_job)\n",
    "\n",
    "# (iii) Number of jobs not fully assigned to the machine with the lowest energy consumption\n",
    "x_optimal = value.(x)\n",
    "jobs_not_assigned_to_best_machine = sum([argmin(energy_matrix[i, :]) != argmax(x_optimal[i, :]) for i in 1:num_jobs])\n",
    "println(\"Number of jobs not assigned to the machine with the lowest energy consumption: \", jobs_not_assigned_to_best_machine)\n"
   ]
  },
  {
   "cell_type": "code",
   "execution_count": 22,
   "metadata": {},
   "outputs": [
    {
     "data": {
      "text/plain": [
       "1000×20 Matrix{Float64}:\n",
       " 0.0  0.0  0.0  0.0  0.0  0.0  0.0  0.0  …  0.0  0.0  1.0  0.0  0.0  0.0  0.0\n",
       " 0.0  0.0  0.0  0.0  0.0  0.0  0.0  0.0     0.0  0.0  0.0  0.0  0.0  0.0  0.0\n",
       " 0.0  0.0  0.0  0.0  0.0  0.0  0.0  0.0     0.0  1.0  0.0  0.0  0.0  0.0  0.0\n",
       " 0.0  0.0  0.0  0.0  0.0  0.0  0.0  0.0     0.0  1.0  0.0  0.0  0.0  0.0  0.0\n",
       " 0.0  1.0  0.0  0.0  0.0  0.0  0.0  0.0     0.0  0.0  0.0  0.0  0.0  0.0  0.0\n",
       " 0.0  0.0  0.0  0.0  0.0  0.0  0.0  0.0  …  0.0  1.0  0.0  0.0  0.0  0.0  0.0\n",
       " 0.0  0.0  0.0  0.0  0.0  0.0  0.0  0.0     0.0  0.0  0.0  0.0  0.0  0.0  1.0\n",
       " 0.0  0.0  0.0  0.0  0.0  1.0  0.0  0.0     0.0  0.0  0.0  0.0  0.0  0.0  0.0\n",
       " 0.0  0.0  0.0  0.0  0.0  0.0  0.0  0.0     0.0  1.0  0.0  0.0  0.0  0.0  0.0\n",
       " 0.0  0.0  0.0  0.0  0.0  0.0  0.0  0.0     0.0  1.0  0.0  0.0  0.0  0.0  0.0\n",
       " 0.0  0.0  0.0  0.0  0.0  0.0  0.0  1.0  …  0.0  0.0  0.0  0.0  0.0  0.0  0.0\n",
       " 0.0  0.0  0.0  0.0  0.0  1.0  0.0  0.0     0.0  0.0  0.0  0.0  0.0  0.0  0.0\n",
       " 0.0  0.0  0.0  0.0  0.0  1.0  0.0  0.0     0.0  0.0  0.0  0.0  0.0  0.0  0.0\n",
       " ⋮                        ⋮              ⋱            ⋮                   \n",
       " 0.0  0.0  0.0  0.0  0.0  0.0  0.0  0.0     0.0  1.0  0.0  0.0  0.0  0.0  0.0\n",
       " 0.0  0.0  0.0  0.0  0.0  0.0  0.0  0.0     0.0  0.0  0.0  0.0  0.0  0.0  0.0\n",
       " 0.0  0.0  0.0  0.0  0.0  0.0  1.0  0.0  …  0.0  0.0  0.0  0.0  0.0  0.0  0.0\n",
       " 0.0  0.0  0.0  0.0  0.0  0.0  0.0  0.0     0.0  0.0  1.0  0.0  0.0  0.0  0.0\n",
       " 0.0  0.0  0.0  0.0  0.0  0.0  0.0  0.0     0.0  1.0  0.0  0.0  0.0  0.0  0.0\n",
       " 0.0  0.0  0.0  0.0  0.0  0.0  0.0  0.0     0.0  0.0  0.0  0.0  0.0  0.0  0.0\n",
       " 0.0  0.0  0.0  0.0  0.0  0.0  0.0  1.0     0.0  0.0  0.0  0.0  0.0  0.0  0.0\n",
       " 0.0  0.0  0.0  0.0  0.0  0.0  0.0  0.0  …  0.0  0.0  0.0  0.0  0.0  0.0  0.0\n",
       " 0.0  0.0  0.0  0.0  0.0  0.0  1.0  0.0     0.0  0.0  0.0  0.0  0.0  0.0  0.0\n",
       " 0.0  0.0  0.0  0.0  0.0  0.0  0.0  0.0     0.0  0.0  0.0  0.0  0.0  0.0  1.0\n",
       " 0.0  0.0  0.0  0.0  0.0  0.0  0.0  0.0     0.0  1.0  0.0  0.0  0.0  0.0  0.0\n",
       " 0.0  0.0  0.0  0.0  0.0  0.0  1.0  0.0     0.0  0.0  0.0  0.0  0.0  0.0  0.0"
      ]
     },
     "execution_count": 22,
     "metadata": {},
     "output_type": "execute_result"
    }
   ],
   "source": [
    "x_check = value.(x)"
   ]
  },
  {
   "cell_type": "code",
   "execution_count": 23,
   "metadata": {},
   "outputs": [
    {
     "name": "stdout",
     "output_type": "stream",
     "text": [
      "\n",
      "Machine-to-Job Assignments:\n",
      "Machine 1 has the following jobs assigned: [42, 54, 109, 123, 136, 162, 250, 322, 328, 385, 429, 503, 525, 542, 617, 687, 745, 777, 800, 910, 940, 950, 973]\n",
      "Machine 2 has the following jobs assigned: [5, 47, 52, 110, 120, 207, 293, 335, 377, 492, 499, 570, 581, 655, 672, 679, 798, 812, 819, 832, 840, 907, 914, 962]\n",
      "Machine 3 has the following jobs assigned: [71, 74, 99, 186, 188, 243, 292, 349, 391, 403, 406, 480, 488, 504, 533, 600, 644, 654, 658, 670, 769, 817, 823, 862, 878, 883, 885, 951, 954, 963]\n",
      "Machine 4 has the following jobs assigned: [189, 387, 392, 498]\n",
      "Machine 5 has the following jobs assigned: [21, 68, 102, 104, 107, 115, 177, 185, 227, 229, 245, 249, 262, 266, 280, 281, 284, 286, 301, 304, 316, 338, 369, 383, 412, 431, 434, 438, 448, 451, 453, 469, 470, 476, 506, 519, 558, 574, 577, 642, 652, 674, 675, 676, 678, 681, 698, 702, 710, 720, 721, 751, 761, 773, 774, 775, 785, 787, 793, 831, 843, 871, 876, 879, 895, 896, 911, 912, 933, 986]\n",
      "Machine 6 has the following jobs assigned: [8, 12, 13, 20, 32, 33, 38, 55, 66, 98, 152, 155, 160, 180, 181, 183, 193, 197, 204, 209, 212, 242, 254, 271, 272, 282, 289, 315, 326, 329, 340, 347, 354, 363, 381, 386, 396, 413, 426, 428, 430, 432, 439, 441, 450, 455, 489, 490, 495, 526, 539, 543, 546, 554, 568, 610, 614, 624, 627, 656, 684, 693, 695, 699, 717, 722, 748, 754, 760, 771, 779, 782, 799, 801, 813, 825, 836, 852, 854, 864, 865, 872, 888, 939, 948, 960, 987]\n",
      "Machine 7 has the following jobs assigned: [22, 72, 78, 83, 103, 121, 135, 158, 159, 161, 200, 208, 222, 228, 237, 258, 259, 268, 273, 295, 303, 309, 312, 371, 393, 423, 424, 425, 435, 436, 445, 477, 483, 501, 502, 510, 512, 528, 531, 553, 580, 583, 589, 594, 602, 618, 651, 683, 686, 688, 689, 707, 709, 714, 752, 757, 765, 822, 842, 844, 857, 873, 890, 903, 928, 929, 938, 943, 959, 961, 977, 978, 991, 997, 1000]\n",
      "Machine 8 has the following jobs assigned: [11, 25, 35, 48, 50, 51, 58, 61, 70, 81, 86, 91, 112, 113, 122, 140, 146, 156, 166, 167, 169, 224, 235, 240, 253, 267, 274, 285, 288, 313, 320, 324, 332, 337, 339, 353, 355, 359, 365, 367, 372, 388, 402, 410, 427, 433, 454, 479, 482, 484, 500, 507, 516, 518, 521, 541, 561, 566, 567, 569, 576, 578, 590, 592, 599, 601, 609, 611, 613, 637, 660, 673, 694, 713, 723, 730, 732, 737, 742, 755, 759, 778, 794, 795, 804, 805, 820, 835, 837, 846, 849, 860, 866, 870, 875, 882, 908, 909, 918, 931, 932, 935, 949, 952, 968, 972, 995]\n",
      "Machine 9 has the following jobs assigned: [24, 46, 96, 97, 116, 199, 215, 318, 336, 370, 373, 376, 419, 442, 452, 467, 471, 497, 508, 527, 536, 555, 559, 565, 575, 625, 663, 677, 692, 705, 712, 788, 826, 839, 841, 884, 923, 924, 958, 975, 990, 994, 996]\n",
      "Machine 10 has the following jobs assigned: [15, 16, 36, 37, 57, 67, 85, 108, 143, 179, 206, 230, 244, 261, 276, 291, 334, 364, 378, 389, 390, 395, 417, 422, 459, 474, 491, 493, 524, 532, 548, 557, 585, 595, 598, 619, 620, 648, 661, 665, 685, 731, 736, 738, 858, 941, 942, 965, 980, 981, 982, 988]\n",
      "Machine 11 has the following jobs assigned: [87, 157, 545, 650]\n",
      "Machine 12 has the following jobs assigned: [45, 124, 176, 255, 323, 456, 496, 552, 572, 591, 604, 635, 643, 645, 668, 716, 792, 828, 897, 967]\n",
      "Machine 13 has the following jobs assigned: [2, 27, 84, 92, 117, 131, 174, 190, 192, 218, 226, 233, 238, 239, 257, 283, 290, 341, 357, 360, 375, 379, 405, 409, 446, 464, 487, 514, 547, 562, 573, 597, 608, 657, 662, 690, 697, 701, 706, 791, 808, 814, 815, 818, 874, 902, 915, 947, 970]\n",
      "Machine 14 has the following jobs assigned: [17, 19, 53, 62, 63, 89, 90, 93, 127, 128, 129, 130, 133, 134, 137, 142, 145, 151, 164, 172, 205, 231, 232, 241, 269, 278, 299, 351, 352, 356, 374, 384, 437, 460, 462, 475, 478, 486, 511, 513, 530, 535, 549, 556, 593, 634, 639, 640, 641, 664, 669, 691, 704, 711, 725, 739, 747, 784, 797, 806, 811, 845, 851, 880, 892, 913, 936, 937, 969]\n",
      "Machine 15 has the following jobs assigned: [3, 4, 6, 9, 10, 18, 23, 28, 29, 30, 39, 40, 44, 56, 60, 64, 82, 94, 105, 114, 125, 126, 138, 141, 147, 149, 153, 165, 170, 175, 178, 182, 191, 195, 203, 211, 214, 216, 219, 221, 225, 236, 247, 256, 260, 275, 287, 296, 298, 308, 314, 317, 327, 330, 331, 342, 343, 345, 346, 348, 358, 361, 362, 366, 382, 397, 398, 404, 407, 416, 421, 440, 468, 485, 505, 517, 522, 529, 538, 540, 550, 551, 563, 606, 612, 615, 629, 630, 638, 653, 700, 708, 715, 727, 728, 733, 735, 741, 744, 746, 750, 753, 758, 762, 764, 766, 768, 770, 772, 776, 780, 786, 796, 807, 810, 824, 827, 830, 859, 861, 869, 889, 894, 900, 905, 916, 919, 927, 930, 956, 957, 964, 966, 971, 974, 976, 984, 985, 989, 993, 999]\n",
      "Machine 16 has the following jobs assigned: [1, 34, 41, 80, 95, 150, 196, 202, 213, 265, 279, 294, 394, 408, 443, 447, 449, 481, 579, 586, 596, 622, 636, 671, 743, 767, 833, 853, 855, 901, 926, 992]\n",
      "Machine 17 has the following jobs assigned: [14, 75, 79, 100, 101, 139, 163, 173, 194, 270, 277, 319, 333, 344, 400, 420, 458, 494, 523, 584, 605, 632, 646, 659, 729, 740, 829, 838, 877, 881, 886, 898, 904, 917, 979]\n",
      "Machine 18 has the following jobs assigned: [466, 520, 847, 856]\n",
      "Machine 19 has the following jobs assigned: [65, 77, 88, 111, 252, 263, 307, 350, 380, 411, 444, 582, 587, 633, 696, 749, 789, 790, 803, 893, 899, 944, 953]\n",
      "Machine 20 has the following jobs assigned: [7, 26, 31, 43, 49, 59, 69, 73, 76, 106, 118, 119, 132, 144, 148, 154, 168, 171, 184, 187, 198, 201, 210, 217, 220, 223, 234, 246, 248, 251, 264, 297, 300, 302, 305, 306, 310, 311, 321, 325, 368, 399, 401, 414, 415, 418, 457, 461, 463, 465, 472, 473, 509, 515, 534, 537, 544, 560, 564, 571, 588, 603, 607, 616, 621, 623, 626, 628, 631, 647, 649, 666, 667, 680, 682, 703, 718, 719, 724, 726, 734, 756, 763, 781, 783, 802, 809, 816, 821, 834, 848, 850, 863, 867, 868, 887, 891, 906, 920, 921, 922, 925, 934, 945, 946, 955, 983, 998]\n"
     ]
    }
   ],
   "source": [
    "# (iv) Output for each machine a sorted list of the jobs assigned to it\n",
    "println(\"\\nMachine-to-Job Assignments:\")\n",
    "for j in 1:num_machines\n",
    "    # Collect the jobs assigned to machine j (where x[i, j] == 1)\n",
    "    jobs_assigned_to_machine = [i for i in 1:num_jobs if x_optimal[i, j] == 1.0]\n",
    "    \n",
    "    # Sort the list of jobs\n",
    "    sorted_jobs = sort(jobs_assigned_to_machine)\n",
    "    \n",
    "    # Print the sorted list of jobs for machine j\n",
    "    println(\"Machine $j has the following jobs assigned: $sorted_jobs\")\n",
    "end"
   ]
  },
  {
   "cell_type": "markdown",
   "metadata": {},
   "source": [
    "# Part e"
   ]
  },
  {
   "cell_type": "code",
   "execution_count": 24,
   "metadata": {},
   "outputs": [
    {
     "data": {
      "text/plain": [
       "20×1 Matrix{Float64}:\n",
       " 1170.6530507150087\n",
       " 1356.7292590989266\n",
       "  774.6407399067323\n",
       "  583.42002453427\n",
       "  806.3621979348665\n",
       "  327.14308351538904\n",
       " 3895.1172973703497\n",
       "  591.3964093287686\n",
       " 1968.62736382538\n",
       "  376.4551601091232\n",
       " 1964.1195955088235\n",
       "  754.0803116165797\n",
       " 3820.865117789083\n",
       "  317.8379429234617\n",
       " 1939.650469596368\n",
       "  714.5178536320536\n",
       " 1460.1424978957966\n",
       " 1986.400958382396\n",
       "  290.124209071122\n",
       " 4947.224624995945"
      ]
     },
     "execution_count": 24,
     "metadata": {},
     "output_type": "execute_result"
    }
   ],
   "source": [
    "energy_matrix = CSV.read(\"HW2_data/energy.csv\", DataFrame) |> df -> select(df, Not(1)) |> Matrix\n",
    "utilization_matrix = CSV.read(\"HW2_data/utilization.csv\", DataFrame) |> df -> select(df, Not(1)) |> Matrix\n",
    "max_util_vector = CSV.read(\"HW2_data/maxutil.csv\", DataFrame) |> df -> select(df, Not(1)) |> Matrix"
   ]
  },
  {
   "cell_type": "code",
   "execution_count": 25,
   "metadata": {},
   "outputs": [
    {
     "name": "stdout",
     "output_type": "stream",
     "text": [
      "Set parameter Username\n",
      "Academic license - for non-commercial use only - expires 2025-08-18\n",
      "Gurobi Optimizer version 11.0.2 build v11.0.2rc0 (mac64[arm] - Darwin 23.6.0 23G93)\n",
      "\n",
      "CPU model: Apple M1\n",
      "Thread count: 8 physical cores, 8 logical processors, using up to 8 threads\n",
      "\n",
      "Optimize a model with 1020 rows, 20000 columns and 40000 nonzeros\n",
      "Model fingerprint: 0xbaaba343\n",
      "Coefficient statistics:\n",
      "  Matrix range     [1e+00, 9e+02]\n",
      "  Objective range  [7e+00, 2e+02]\n",
      "  Bounds range     [1e+00, 1e+00]\n",
      "  RHS range        [1e+00, 5e+03]\n",
      "Presolve time: 0.01s\n",
      "Presolved: 1020 rows, 20000 columns, 40000 nonzeros\n",
      "\n",
      "Concurrent LP optimizer: primal simplex, dual simplex, and barrier\n",
      "Showing barrier log only...\n",
      "\n",
      "Ordering time: 0.00s\n",
      "\n",
      "Barrier statistics:\n",
      " AA' NZ     : 2.000e+04\n",
      " Factor NZ  : 2.168e+04 (roughly 9 MB of memory)\n",
      " Factor Ops : 4.729e+05 (less than 1 second per iteration)\n",
      " Threads    : 1\n",
      "\n",
      "                  Objective                Residual\n",
      "Iter       Primal          Dual         Primal    Dual     Compl     Time\n",
      "   0   5.27490183e+06  0.00000000e+00  8.08e+03 0.00e+00  2.51e+02     0s\n",
      "   1   5.96946557e+05 -1.97229690e+04  8.51e+02 5.68e-14  2.76e+01     0s\n",
      "   2   1.08211045e+05  1.07162598e+04  9.21e+01 5.68e-14  3.55e+00     0s\n",
      "   3   6.33930821e+04  3.30035720e+04  2.25e+01 3.02e-14  1.05e+00     0s\n",
      "   4   5.39689464e+04  3.99105082e+04  8.10e+00 3.11e-14  4.57e-01     0s\n",
      "   5   5.14747554e+04  4.36152185e+04  4.49e+00 2.84e-14  2.36e-01     0s\n",
      "   6   4.98912181e+04  4.50516067e+04  2.43e+00 3.55e-14  1.32e-01     0s\n",
      "   7   4.89403386e+04  4.57075603e+04  1.45e+00 5.68e-14  8.39e-02     0s\n",
      "   8   4.85538044e+04  4.60244232e+04  1.13e+00 2.84e-14  6.36e-02     0s\n",
      "   9   4.77320970e+04  4.61793046e+04  5.16e-01 2.84e-14  3.86e-02     0s\n",
      "  10   4.75766333e+04  4.63209754e+04  4.23e-01 2.84e-14  3.08e-02     0s\n",
      "  11   4.72321841e+04  4.64441849e+04  2.37e-01 2.84e-14  1.92e-02     0s\n",
      "  12   4.70334791e+04  4.65638036e+04  1.40e-01 2.84e-14  1.13e-02     0s\n",
      "  13   4.68984243e+04  4.66030110e+04  8.12e-02 2.84e-14  7.12e-03     0s\n",
      "  14   4.68194322e+04  4.66424472e+04  4.79e-02 2.84e-14  4.25e-03     0s\n",
      "  15   4.67678369e+04  4.66598530e+04  2.76e-02 2.84e-14  2.60e-03     0s\n",
      "  16   4.67649958e+04  4.66642029e+04  2.65e-02 2.84e-14  2.42e-03     0s\n",
      "  17   4.67344465e+04  4.66804311e+04  1.49e-02 2.84e-14  1.29e-03     0s\n",
      "  18   4.67016971e+04  4.66912544e+04  2.56e-03 2.84e-14  2.51e-04     0s\n",
      "  19   4.66956409e+04  4.66929154e+04  6.23e-04 2.84e-14  6.57e-05     0s\n",
      "  20   4.66944412e+04  4.66933498e+04  2.51e-04 2.84e-14  2.63e-05     0s\n",
      "\n",
      "Barrier performed 20 iterations in 0.05 seconds (0.07 work units)\n",
      "Barrier solve interrupted - model solved by another algorithm\n",
      "\n",
      "\n",
      "Solved with dual simplex\n",
      "Iteration    Objective       Primal Inf.    Dual Inf.      Time\n",
      "    2290    4.6693579e+04   0.000000e+00   0.000000e+00      0s\n",
      "\n",
      "Solved in 2290 iterations and 0.05 seconds (0.09 work units)\n",
      "Optimal objective  4.669357909e+04\n",
      "\n",
      "User-callback calls 100, time in user-callback 0.00 sec\n",
      "Optimal energy consumption: 46693.57908506735\n",
      "Energy consumption without machine capacity constraints: 40883.16110700149\n",
      "Number of jobs not assigned to the machine with the lowest energy consumption: 885\n"
     ]
    }
   ],
   "source": [
    "num_jobs, num_machines = size(energy_matrix)\n",
    "\n",
    "# Initialize the model\n",
    "model = Model(Gurobi.Optimizer)\n",
    "\n",
    "# Decision variables: x[i, j] is the fraction of job i assigned to machine j\n",
    "@variable(model, 0 <= x[1:num_jobs, 1:num_machines] <= 1)\n",
    "\n",
    "# Objective: Minimize total energy consumption\n",
    "@objective(model, Min, sum(energy_matrix[i, j] * x[i, j] for i in 1:num_jobs, j in 1:num_machines))\n",
    "\n",
    "# Constraints:\n",
    "# 1. Each job must be fully assigned (sum of fractions across machines must be 1)\n",
    "@constraint(model, [i=1:num_jobs], sum(x[i, j] for j in 1:num_machines) == 1)\n",
    "\n",
    "# 2. Machine capacity constraints\n",
    "@constraint(model, machine_utilization[j=1:num_machines], sum(utilization_matrix[i, j] * x[i, j] for i in 1:num_jobs) <= max_util_vector[j])\n",
    "\n",
    "# Solve the problem\n",
    "optimize!(model)\n",
    "\n",
    "# (i) Optimal energy consumption\n",
    "optimal_energy_consumption = objective_value(model)\n",
    "println(\"Optimal energy consumption: \", optimal_energy_consumption)\n",
    "\n",
    "# (ii) Energy consumption if each job is assigned to the machine with the lowest energy consumption\n",
    "min_energy_consumption_per_job = sum(minimum(energy_matrix[i, :]) for i in 1:num_jobs)\n",
    "println(\"Energy consumption without machine capacity constraints: \", min_energy_consumption_per_job)\n",
    "\n",
    "# (iii) Number of jobs not fully assigned to the machine with the lowest energy consumption\n",
    "x_optimal = value.(x)\n",
    "jobs_not_assigned_to_best_machine = sum([maximum(x_optimal[i, :]) != 1 || argmin(energy_matrix[i, :]) != argmax(x_optimal[i, :]) for i in 1:num_jobs])\n",
    "println(\"Number of jobs not assigned to the machine with the lowest energy consumption: \", jobs_not_assigned_to_best_machine)\n"
   ]
  },
  {
   "cell_type": "code",
   "execution_count": 33,
   "metadata": {},
   "outputs": [
    {
     "name": "stdout",
     "output_type": "stream",
     "text": [
      "\n",
      "Machine-to-Job Assignments:\n",
      "Machine 1 has the following jobs assigned: [43, 70, 74, 91, 120, 134, 210, 216, 242, 284, 319, 326, 369, 391, 396, 406, 445, 450, 458, 464, 488, 494, 531, 546, 572, 593, 595, 599, 640, 642, 647, 651, 664, 668, 676, 722, 732, 758, 759, 790, 793, 797, 801, 850, 853, 876, 877, 938]\n",
      "Machine 2 has the following jobs assigned: [53, 63, 108, 109, 116, 122, 141, 151, 156, 161, 183, 193, 219, 226, 250, 279, 293, 321, 360, 361, 398, 401, 407, 438, 492, 514, 516, 539, 548, 576, 581, 597, 621, 641, 653, 656, 719, 725, 760, 783, 812, 836, 858, 874, 919, 927, 944, 962, 973, 974, 980]\n",
      "Machine 3 has the following jobs assigned: [14, 23, 62, 123, 159, 164, 178, 185, 288, 300, 328, 330, 399, 425, 431, 465, 502, 515, 536, 538, 554, 658, 726, 750, 787, 846, 848, 879, 885, 886, 887, 987]\n",
      "Machine 4 has the following jobs assigned: [34, 228, 237, 243, 324, 342, 402, 418, 459, 499, 556, 561, 566, 583, 639, 723, 766, 803, 816, 817, 849, 889, 975]\n",
      "Machine 5 has the following jobs assigned: [16, 40, 50, 65, 80, 95, 146, 163, 175, 197, 199, 204, 268, 313, 316, 496, 512, 542, 628, 652, 678, 728, 761, 763, 820, 829, 843, 864, 881, 957]\n",
      "Machine 6 has the following jobs assigned: [21, 142, 171, 304, 364, 389, 417, 506, 594, 610, 635, 684, 729, 751, 976]\n",
      "Machine 7 has the following jobs assigned: [1, 6, 11, 25, 37, 39, 42, 52, 56, 59, 60, 92, 99, 103, 135, 137, 138, 150, 160, 166, 172, 181, 187, 195, 202, 212, 217, 220, 234, 244, 246, 247, 258, 259, 265, 266, 282, 295, 297, 299, 312, 323, 334, 337, 343, 346, 362, 370, 371, 388, 420, 432, 433, 435, 455, 463, 473, 526, 527, 528, 559, 564, 568, 574, 586, 587, 591, 611, 627, 645, 655, 663, 701, 714, 720, 757, 765, 770, 782, 786, 795, 796, 822, 842, 854, 857, 873, 875, 888, 891, 892, 918, 943, 964, 971, 978, 985, 991, 1000]\n",
      "Machine 8 has the following jobs assigned: [7, 48, 55, 81, 90, 118, 285, 301, 320, 393, 414, 467, 498, 507, 522, 534, 557, 624, 632, 689, 716, 721, 744, 827, 831, 896]\n",
      "Machine 9 has the following jobs assigned: [41, 64, 111, 113, 158, 162, 180, 188, 191, 205, 213, 222, 227, 231, 253, 254, 307, 329, 336, 348, 355, 386, 409, 412, 419, 429, 434, 452, 480, 490, 540, 571, 584, 585, 596, 598, 600, 669, 671, 673, 677, 680, 686, 694, 712, 713, 718, 724, 733, 734, 739, 748, 754, 771, 788, 791, 867, 890, 931, 956, 958, 990, 996, 998]\n",
      "Machine 10 has the following jobs assigned: [13, 36, 58, 169, 278, 338, 410, 513, 633, 649, 660, 727, 775, 800, 902, 941, 951]\n",
      "Machine 11 has the following jobs assigned: [3, 35, 69, 78, 85, 88, 110, 129, 140, 149, 225, 229, 240, 257, 263, 302, 314, 335, 347, 368, 374, 378, 395, 404, 405, 427, 430, 462, 483, 486, 493, 509, 545, 588, 592, 614, 617, 618, 650, 657, 661, 665, 679, 691, 692, 700, 702, 705, 752, 756, 764, 773, 785, 804, 807, 862, 868, 872, 933, 935]\n",
      "Machine 12 has the following jobs assigned: [46, 79, 117, 126, 147, 168, 176, 179, 251, 311, 345, 357, 383, 411, 421, 461, 468, 476, 478, 479, 484, 525, 543, 604, 717, 737, 741, 774, 806, 824, 834, 859, 897, 961, 992]\n",
      "Machine 13 has the following jobs assigned: [5, 9, 22, 27, 29, 32, 33, 75, 84, 86, 89, 125, 131, 218, 223, 233, 235, 238, 256, 260, 264, 271, 275, 276, 318, 333, 339, 340, 363, 367, 387, 403, 408, 428, 439, 440, 446, 471, 487, 491, 497, 500, 508, 521, 523, 532, 535, 547, 560, 562, 563, 567, 569, 570, 573, 615, 616, 623, 629, 634, 670, 674, 683, 687, 688, 695, 696, 699, 704, 708, 730, 767, 776, 780, 792, 811, 818, 823, 825, 828, 830, 838, 893, 895, 901, 928, 930, 932, 937, 940, 946, 953, 954, 959, 968, 969, 988, 989, 993, 995, 999]\n",
      "Machine 14 has the following jobs assigned: [2, 18, 31, 72, 77, 215, 245, 272, 277, 325, 344, 372, 384, 437, 519, 552, 844, 997]\n",
      "Machine 15 has the following jobs assigned: [30, 38, 44, 45, 61, 96, 101, 130, 143, 145, 148, 152, 155, 186, 196, 203, 206, 211, 239, 287, 294, 296, 327, 331, 332, 351, 358, 359, 426, 441, 460, 472, 529, 541, 550, 590, 605, 606, 636, 703, 706, 735, 755, 778, 808, 810, 814, 852, 861, 863, 869, 878, 882, 894, 898, 905, 906, 908, 942, 952, 986]\n",
      "Machine 16 has the following jobs assigned: [68, 102, 170, 200, 241, 273, 306, 310, 392, 442, 444, 451, 482, 503, 511, 544, 549, 551, 577, 603, 613, 631, 637, 772, 798, 845, 907, 916, 923, 948, 965, 967]\n",
      "Machine 17 has the following jobs assigned: [10, 28, 54, 73, 93, 97, 104, 112, 114, 115, 124, 153, 154, 190, 270, 291, 356, 375, 397, 413, 416, 447, 449, 453, 454, 485, 505, 565, 579, 601, 602, 620, 626, 644, 654, 659, 685, 698, 709, 710, 711, 715, 736, 738, 745, 809, 840, 841, 847, 860, 870, 884, 904, 911, 913, 917, 921, 922, 925, 929, 960, 979, 994]\n",
      "Machine 18 has the following jobs assigned: [4, 8, 20, 24, 51, 57, 66, 87, 106, 157, 174, 192, 198, 214, 230, 262, 274, 286, 298, 303, 315, 317, 341, 350, 365, 366, 376, 380, 385, 394, 443, 466, 470, 475, 501, 504, 520, 533, 555, 558, 580, 608, 609, 619, 622, 662, 740, 743, 747, 749, 779, 799, 835, 837, 851, 856, 866, 871, 883, 914, 915, 934, 945, 950]\n",
      "Machine 19 has the following jobs assigned: [267, 400, 423, 510, 575, 675, 690, 742, 833, 899, 910, 924, 947]\n",
      "Machine 20 has the following jobs assigned: [12, 15, 17, 19, 26, 47, 49, 67, 71, 82, 83, 94, 98, 100, 105, 119, 121, 127, 132, 136, 139, 144, 165, 167, 177, 182, 184, 189, 194, 207, 208, 209, 221, 232, 236, 248, 249, 261, 269, 280, 281, 283, 289, 290, 292, 305, 308, 309, 322, 349, 352, 353, 354, 373, 377, 381, 382, 390, 415, 422, 424, 436, 448, 456, 457, 469, 477, 481, 489, 495, 517, 518, 524, 537, 553, 578, 582, 589, 607, 612, 625, 630, 638, 643, 666, 667, 672, 681, 682, 693, 697, 707, 731, 746, 753, 762, 768, 769, 777, 781, 784, 794, 802, 805, 815, 819, 821, 826, 832, 839, 855, 865, 880, 900, 903, 909, 912, 926, 939, 955, 963, 966, 970, 972, 977, 981, 983, 984]\n"
     ]
    }
   ],
   "source": [
    "# (iv) Output for each machine a sorted list of the jobs assigned to it\n",
    "println(\"\\nMachine-to-Job Assignments:\")\n",
    "for j in 1:num_machines\n",
    "    # Collect the jobs assigned to machine j (where x[i, j] == 1)\n",
    "    jobs_assigned_to_machine = [i for i in 1:num_jobs if x_optimal[i, j] == 1.0]\n",
    "    \n",
    "    # Sort the list of jobs\n",
    "    sorted_jobs = sort(jobs_assigned_to_machine)\n",
    "    \n",
    "    # Print the sorted list of jobs for machine j\n",
    "    println(\"Machine $j has the following jobs assigned: $sorted_jobs\")\n",
    "end"
   ]
  },
  {
   "cell_type": "markdown",
   "metadata": {},
   "source": [
    "# Part f"
   ]
  },
  {
   "cell_type": "code",
   "execution_count": 35,
   "metadata": {},
   "outputs": [
    {
     "data": {
      "text/plain": [
       "20-element Vector{Float64}:\n",
       " -0.6877375258524322\n",
       " -0.6276405251108662\n",
       " -0.7475845837313916\n",
       " -0.9423350572679897\n",
       " -0.7983120635098678\n",
       " -0.9559487912487902\n",
       " -0.47639998175706827\n",
       " -0.8631283570921323\n",
       " -0.5626604689530459\n",
       " -0.8619179713277901\n",
       " -0.6017256987589229\n",
       " -0.8353484646469141\n",
       " -0.4694121774821506\n",
       " -1.017551184215603\n",
       " -0.5573576034764329\n",
       " -0.7586473115817243\n",
       " -0.6567023032387405\n",
       " -0.6083138421319758\n",
       " -1.0561672403707179\n",
       " -0.4128887105714022"
      ]
     },
     "execution_count": 35,
     "metadata": {},
     "output_type": "execute_result"
    }
   ],
   "source": [
    "# Get the values of the dual variables for the machine utilization constraints from the model in Part e\n",
    "\n",
    "dual_values = dual.(machine_utilization)"
   ]
  },
  {
   "cell_type": "code",
   "execution_count": 36,
   "metadata": {},
   "outputs": [
    {
     "data": {
      "text/plain": [
       "\"dual_values.csv\""
      ]
     },
     "execution_count": 36,
     "metadata": {},
     "output_type": "execute_result"
    }
   ],
   "source": [
    "df = DataFrame(Dual_Values = dual_values)\n",
    "CSV.write(\"dual_values.csv\", df)"
   ]
  }
 ],
 "metadata": {
  "kernelspec": {
   "display_name": "Julia 1.10.4",
   "language": "julia",
   "name": "julia-1.10"
  },
  "language_info": {
   "file_extension": ".jl",
   "mimetype": "application/julia",
   "name": "julia",
   "version": "1.10.4"
  },
  "orig_nbformat": 4
 },
 "nbformat": 4,
 "nbformat_minor": 2
}
